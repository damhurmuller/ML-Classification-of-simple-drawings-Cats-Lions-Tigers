{
 "cells": [
  {
   "cell_type": "markdown",
   "metadata": {},
   "source": [
    "<table style=\"width: 100%; margin-left: auto; margin-right: auto; background-color: white;\">\n",
    "<tbody>\n",
    "<tr>\n",
    "\n",
    "<td style=\"text-align: center; width: 12%;\"><img src=imagens/brasil-brasao.png alt=\"\" /></td>\n",
    "\n",
    "<td style=\"width: 68%;\">\n",
    "<h2 style=\"text-align: center; margin-top: 1%;\">Governo do Brasil</h2>\n",
    "<h2 style=\"text-align: center; margin-top: 1%;\">Minist&eacute;rio da Educa&ccedil;&atilde;o</h2>\n",
    "<h2 style=\"text-align: center; margin-top: 1%;\">Universidade Federal do Amazonas</h2>\n",
    "<h2 style=\"text-align: center; margin-top: 1%;\">Instituto de Computa&ccedil;&atilde;o</h2>\n",
    "</td>\n",
    "\n",
    "<td style=\"width: 12%;\"><img src=\"imagens/UFAM-logo.png\" alt=\"\" /></td>\n",
    "\n",
    "</tr>\n",
    "</tbody>\n",
    "</table>"
   ]
  },
  {
   "cell_type": "markdown",
   "metadata": {},
   "source": [
    "# Aprendizagem de Máquina e Mineração de Dados \n",
    "### Trabalho Prático II, versão 1.0\n",
    "#### Classificação de desenhos simples (Gatos, Leões e Tigres)"
   ]
  },
  {
   "cell_type": "markdown",
   "metadata": {},
   "source": [
    "Professor _Marco Cristo_ \n",
    "\n",
    "**Alunos** (até 2):"
   ]
  },
  {
   "cell_type": "markdown",
   "metadata": {},
   "source": [
    "_Mário Damhur Moraes Müller_"
   ]
  },
  {
   "cell_type": "markdown",
   "metadata": {},
   "source": [
    "# Observações !!!"
   ]
  },
  {
   "cell_type": "markdown",
   "metadata": {},
   "source": [
    "Executar as funções para realizar o pré-processamento dos dados para cada rede (Eu só normalizo e dou o reshape dependendo da rede):\n",
    "\n",
    "1. **preprocessing_fnn**\n",
    "2. **preprocessing_cnn**\n",
    "3. **preprocessing_resnet**\n",
    "\n",
    "Exemplo:\n",
    "\n",
    "**test_X = preprocessing_resnet(test_X)**\n",
    "\n",
    "Para **importar** os modelos utilizar **from tensorflow.keras.models import load_model** e então **model = load_model(nome_do_modelo)** do tf2, ao invés do keras (Deu erro ao tentar do keras, acredito que seja por que eu estou usando o keras do tf2)."
   ]
  },
  {
   "cell_type": "code",
   "execution_count": 1,
   "metadata": {},
   "outputs": [
    {
     "name": "stderr",
     "output_type": "stream",
     "text": [
      "Using TensorFlow backend.\n"
     ]
    }
   ],
   "source": [
    "# from tensorflow.compat.v1 import ConfigProto\n",
    "# from tensorflow.compat.v1 import InteractiveSession\n",
    "\n",
    "# config = ConfigProto()\n",
    "# config.gpu_options.allow_growth = True\n",
    "# session = InteractiveSession(config=config)\n",
    "\n",
    "import numpy as np\n",
    "import pandas as pd\n",
    "import matplotlib.pyplot as plt\n",
    "import keras\n",
    "import tensorflow as tf\n",
    "from tensorflow.keras.models import load_model\n",
    "import sys\n",
    "%matplotlib inline\n",
    "\n",
    "np.random.seed(1)\n",
    "tf.random.set_seed(1)"
   ]
  },
  {
   "cell_type": "code",
   "execution_count": 2,
   "metadata": {},
   "outputs": [
    {
     "name": "stdout",
     "output_type": "stream",
     "text": [
      "Python 3.6.7 (default, Oct 22 2018, 11:32:17) \n",
      "[GCC 8.2.0]\n",
      "--------\n",
      "Pandas: 0.24.2\n",
      "Numpy: 1.16.4\n",
      "Keras: 2.2.4\n",
      "Tensorflow: 2.0.0-beta1\n",
      "Keras (TF): 2.2.4-tf\n"
     ]
    }
   ],
   "source": [
    "print('Python', sys.version)\n",
    "print('--------')\n",
    "print('Pandas:', pd.__version__)\n",
    "print('Numpy:', np.__version__)\n",
    "print('Keras:', keras.__version__)\n",
    "print('Tensorflow:', tf.__version__)\n",
    "print('Keras (TF):', tf.keras.__version__)"
   ]
  },
  {
   "cell_type": "code",
   "execution_count": 3,
   "metadata": {},
   "outputs": [
    {
     "data": {
      "text/plain": [
       "(120000, 785)"
      ]
     },
     "execution_count": 3,
     "metadata": {},
     "output_type": "execute_result"
    }
   ],
   "source": [
    "animals = np.load(\"catliontiger_tr.npz\")\n",
    "animals['data'].shape"
   ]
  },
  {
   "cell_type": "code",
   "execution_count": 4,
   "metadata": {},
   "outputs": [
    {
     "data": {
      "text/plain": [
       "(dtype('float32'), dtype('uint8'))"
      ]
     },
     "execution_count": 4,
     "metadata": {},
     "output_type": "execute_result"
    }
   ],
   "source": [
    "X = animals['data'][:,:-1].astype('float32')\n",
    "y = pd.get_dummies(animals['data'][:,-1]).values\n",
    "\n",
    "X.dtype, y.dtype"
   ]
  },
  {
   "cell_type": "code",
   "execution_count": 5,
   "metadata": {},
   "outputs": [],
   "source": [
    "from sklearn.model_selection import train_test_split\n",
    "\n",
    "X_train_o, X_test_o, y_train, y_test = train_test_split(X, y, test_size=3000, shuffle=True, \n",
    "                                                        random_state=42, stratify=y)\n",
    "X_train_o, X_val_o, y_train, y_val = train_test_split(X_train_o, y_train, test_size=6000, shuffle=True, \n",
    "                                                        random_state=42, stratify=y_train)"
   ]
  },
  {
   "cell_type": "markdown",
   "metadata": {},
   "source": [
    "# FNN"
   ]
  },
  {
   "cell_type": "code",
   "execution_count": 6,
   "metadata": {},
   "outputs": [
    {
     "name": "stdout",
     "output_type": "stream",
     "text": [
      "X_train shape: (111000, 784)\n",
      "y_train shape: (111000, 3)\n",
      "X_test shape: (3000, 784)\n",
      "y_test shape: (3000, 3)\n",
      "X_val shape: (6000, 784)\n",
      "y_val shape: (6000, 3)\n"
     ]
    }
   ],
   "source": [
    "def preprocessing_fnn(data):\n",
    "    x = data / 255.0\n",
    "    return x\n",
    "\n",
    "X_train = preprocessing_fnn(X_train_o)\n",
    "X_test = preprocessing_fnn(X_test_o)\n",
    "X_val = preprocessing_fnn(X_val_o)\n",
    "\n",
    "print('X_train shape:', X_train.shape)\n",
    "print('y_train shape:', y_train.shape)\n",
    "print('X_test shape:', X_test.shape)\n",
    "print('y_test shape:', y_test.shape)\n",
    "print('X_val shape:', X_val.shape)\n",
    "print('y_val shape:', y_val.shape)"
   ]
  },
  {
   "cell_type": "code",
   "execution_count": 7,
   "metadata": {},
   "outputs": [],
   "source": [
    "def model_fnn():\n",
    "    model = tf.keras.models.Sequential()\n",
    "\n",
    "    model.add(tf.keras.layers.Dense(300, kernel_initializer=\"he_normal\", use_bias=False, input_shape=(784,)))\n",
    "    model.add(tf.keras.layers.BatchNormalization())\n",
    "    model.add(tf.keras.layers.Activation(\"relu\"))\n",
    "    model.add(tf.keras.layers.Dropout(0.5))\n",
    "    \n",
    "    model.add(tf.keras.layers.Dense(100, kernel_initializer=\"he_normal\", use_bias=False))\n",
    "    model.add(tf.keras.layers.BatchNormalization())\n",
    "    model.add(tf.keras.layers.Activation(\"relu\"))\n",
    "    model.add(tf.keras.layers.Dropout(0.5))\n",
    "    model.add(tf.keras.layers.Dense(3, activation=\"softmax\"))\n",
    "\n",
    "    model.compile(loss=\"categorical_crossentropy\", optimizer=tf.keras.optimizers.Nadam(lr=0.001), metrics=[\"accuracy\"])\n",
    "    \n",
    "    return model"
   ]
  },
  {
   "cell_type": "code",
   "execution_count": 8,
   "metadata": {},
   "outputs": [
    {
     "name": "stderr",
     "output_type": "stream",
     "text": [
      "WARNING: Logging before flag parsing goes to stderr.\n",
      "W0711 12:27:14.332505 140088239945536 deprecation.py:323] From /home/damhur/.tensorflow2/lib/python3.6/site-packages/tensorflow/python/ops/math_grad.py:1250: add_dispatch_support.<locals>.wrapper (from tensorflow.python.ops.array_ops) is deprecated and will be removed in a future version.\n",
      "Instructions for updating:\n",
      "Use tf.where in 2.0, which has the same broadcast rule as np.where\n"
     ]
    },
    {
     "name": "stdout",
     "output_type": "stream",
     "text": [
      "Train on 111000 samples, validate on 6000 samples\n",
      "Epoch 1/20\n",
      "110592/111000 [============================>.] - ETA: 0s - loss: 0.6997 - accuracy: 0.7253\n",
      "Epoch 00001: val_loss improved from inf to 0.57595, saving model to fnn.h5\n",
      "111000/111000 [==============================] - 3s 24us/sample - loss: 0.6993 - accuracy: 0.7254 - val_loss: 0.5760 - val_accuracy: 0.7662\n",
      "Epoch 2/20\n",
      "110592/111000 [============================>.] - ETA: 0s - loss: 0.5555 - accuracy: 0.7845\n",
      "Epoch 00002: val_loss improved from 0.57595 to 0.48343, saving model to fnn.h5\n",
      "111000/111000 [==============================] - 1s 10us/sample - loss: 0.5557 - accuracy: 0.7845 - val_loss: 0.4834 - val_accuracy: 0.8115\n",
      "Epoch 3/20\n",
      "106496/111000 [===========================>..] - ETA: 0s - loss: 0.5169 - accuracy: 0.7996\n",
      "Epoch 00003: val_loss improved from 0.48343 to 0.45058, saving model to fnn.h5\n",
      "111000/111000 [==============================] - 1s 10us/sample - loss: 0.5156 - accuracy: 0.8002 - val_loss: 0.4506 - val_accuracy: 0.8263\n",
      "Epoch 4/20\n",
      "109568/111000 [============================>.] - ETA: 0s - loss: 0.4925 - accuracy: 0.8094\n",
      "Epoch 00004: val_loss improved from 0.45058 to 0.43689, saving model to fnn.h5\n",
      "111000/111000 [==============================] - 1s 10us/sample - loss: 0.4923 - accuracy: 0.8096 - val_loss: 0.4369 - val_accuracy: 0.8285\n",
      "Epoch 5/20\n",
      "105472/111000 [===========================>..] - ETA: 0s - loss: 0.4733 - accuracy: 0.8183\n",
      "Epoch 00005: val_loss improved from 0.43689 to 0.42423, saving model to fnn.h5\n",
      "111000/111000 [==============================] - 1s 10us/sample - loss: 0.4727 - accuracy: 0.8186 - val_loss: 0.4242 - val_accuracy: 0.8325\n",
      "Epoch 6/20\n",
      "110592/111000 [============================>.] - ETA: 0s - loss: 0.4614 - accuracy: 0.8220\n",
      "Epoch 00006: val_loss improved from 0.42423 to 0.41896, saving model to fnn.h5\n",
      "111000/111000 [==============================] - 1s 10us/sample - loss: 0.4614 - accuracy: 0.8220 - val_loss: 0.4190 - val_accuracy: 0.8357\n",
      "Epoch 7/20\n",
      "108544/111000 [============================>.] - ETA: 0s - loss: 0.4506 - accuracy: 0.8256\n",
      "Epoch 00007: val_loss improved from 0.41896 to 0.40958, saving model to fnn.h5\n",
      "111000/111000 [==============================] - 1s 11us/sample - loss: 0.4505 - accuracy: 0.8256 - val_loss: 0.4096 - val_accuracy: 0.8418\n",
      "Epoch 8/20\n",
      "107520/111000 [============================>.] - ETA: 0s - loss: 0.4394 - accuracy: 0.8299\n",
      "Epoch 00008: val_loss improved from 0.40958 to 0.40404, saving model to fnn.h5\n",
      "111000/111000 [==============================] - 1s 10us/sample - loss: 0.4393 - accuracy: 0.8299 - val_loss: 0.4040 - val_accuracy: 0.8415\n",
      "Epoch 9/20\n",
      "109568/111000 [============================>.] - ETA: 0s - loss: 0.4326 - accuracy: 0.8323\n",
      "Epoch 00009: val_loss improved from 0.40404 to 0.40063, saving model to fnn.h5\n",
      "111000/111000 [==============================] - 1s 10us/sample - loss: 0.4324 - accuracy: 0.8326 - val_loss: 0.4006 - val_accuracy: 0.8445\n",
      "Epoch 10/20\n",
      "110080/111000 [============================>.] - ETA: 0s - loss: 0.4233 - accuracy: 0.8354\n",
      "Epoch 00010: val_loss improved from 0.40063 to 0.39767, saving model to fnn.h5\n",
      "111000/111000 [==============================] - 1s 10us/sample - loss: 0.4231 - accuracy: 0.8355 - val_loss: 0.3977 - val_accuracy: 0.8468\n",
      "Epoch 11/20\n",
      "109056/111000 [============================>.] - ETA: 0s - loss: 0.4145 - accuracy: 0.8386\n",
      "Epoch 00011: val_loss improved from 0.39767 to 0.39191, saving model to fnn.h5\n",
      "111000/111000 [==============================] - 1s 10us/sample - loss: 0.4148 - accuracy: 0.8383 - val_loss: 0.3919 - val_accuracy: 0.8492\n",
      "Epoch 12/20\n",
      "110080/111000 [============================>.] - ETA: 0s - loss: 0.4082 - accuracy: 0.8419\n",
      "Epoch 00012: val_loss did not improve from 0.39191\n",
      "111000/111000 [==============================] - 1s 10us/sample - loss: 0.4078 - accuracy: 0.8421 - val_loss: 0.3971 - val_accuracy: 0.8460\n",
      "Epoch 13/20\n",
      "109056/111000 [============================>.] - ETA: 0s - loss: 0.4022 - accuracy: 0.8444\n",
      "Epoch 00013: val_loss improved from 0.39191 to 0.39088, saving model to fnn.h5\n",
      "111000/111000 [==============================] - 1s 10us/sample - loss: 0.4024 - accuracy: 0.8443 - val_loss: 0.3909 - val_accuracy: 0.8505\n",
      "Epoch 14/20\n",
      "109568/111000 [============================>.] - ETA: 0s - loss: 0.3969 - accuracy: 0.8445\n",
      "Epoch 00014: val_loss improved from 0.39088 to 0.38773, saving model to fnn.h5\n",
      "111000/111000 [==============================] - 1s 10us/sample - loss: 0.3969 - accuracy: 0.8447 - val_loss: 0.3877 - val_accuracy: 0.8515\n",
      "Epoch 15/20\n",
      "108032/111000 [============================>.] - ETA: 0s - loss: 0.3912 - accuracy: 0.8474\n",
      "Epoch 00015: val_loss did not improve from 0.38773\n",
      "111000/111000 [==============================] - 1s 10us/sample - loss: 0.3917 - accuracy: 0.8472 - val_loss: 0.3895 - val_accuracy: 0.8512\n",
      "Epoch 16/20\n",
      "110592/111000 [============================>.] - ETA: 0s - loss: 0.3855 - accuracy: 0.8491\n",
      "Epoch 00016: val_loss did not improve from 0.38773\n",
      "111000/111000 [==============================] - 1s 10us/sample - loss: 0.3855 - accuracy: 0.8491 - val_loss: 0.3886 - val_accuracy: 0.8515\n",
      "Epoch 17/20\n",
      "109056/111000 [============================>.] - ETA: 0s - loss: 0.3775 - accuracy: 0.8516\n",
      "Epoch 00017: val_loss improved from 0.38773 to 0.38343, saving model to fnn.h5\n",
      "111000/111000 [==============================] - 1s 10us/sample - loss: 0.3772 - accuracy: 0.8518 - val_loss: 0.3834 - val_accuracy: 0.8532\n",
      "Epoch 18/20\n",
      "109056/111000 [============================>.] - ETA: 0s - loss: 0.3746 - accuracy: 0.8540\n",
      "Epoch 00018: val_loss improved from 0.38343 to 0.38265, saving model to fnn.h5\n",
      "111000/111000 [==============================] - 1s 10us/sample - loss: 0.3743 - accuracy: 0.8540 - val_loss: 0.3826 - val_accuracy: 0.8550\n",
      "Epoch 19/20\n",
      "109056/111000 [============================>.] - ETA: 0s - loss: 0.3715 - accuracy: 0.8554\n",
      "Epoch 00019: val_loss did not improve from 0.38265\n",
      "111000/111000 [==============================] - 1s 10us/sample - loss: 0.3716 - accuracy: 0.8554 - val_loss: 0.3834 - val_accuracy: 0.8522\n",
      "Epoch 20/20\n",
      "105984/111000 [===========================>..] - ETA: 0s - loss: 0.3674 - accuracy: 0.8558\n",
      "Epoch 00020: val_loss improved from 0.38265 to 0.38134, saving model to fnn.h5\n",
      "111000/111000 [==============================] - 1s 10us/sample - loss: 0.3676 - accuracy: 0.8560 - val_loss: 0.3813 - val_accuracy: 0.8547\n"
     ]
    }
   ],
   "source": [
    "model_fnn_name = 'fnn.h5'\n",
    "model_fnn = model_fnn()\n",
    "\n",
    "checkpoint = tf.keras.callbacks.ModelCheckpoint(model_fnn_name, monitor=\"val_loss\", verbose=1, save_best_only=True)\n",
    "early_stopping = tf.keras.callbacks.EarlyStopping(monitor=\"val_loss\", verbose=1, patience=5, restore_best_weights=True)\n",
    "\n",
    "history = model_fnn.fit(X_train, y_train, batch_size=512, epochs=20, validation_data=(X_val, y_val),\n",
    "                    callbacks=[checkpoint, early_stopping])"
   ]
  },
  {
   "cell_type": "code",
   "execution_count": 9,
   "metadata": {},
   "outputs": [
    {
     "name": "stdout",
     "output_type": "stream",
     "text": [
      "3000/3000 [==============================] - 0s 71us/sample - loss: 0.3835 - accuracy: 0.8480\n"
     ]
    },
    {
     "data": {
      "text/plain": [
       "[0.3834942475954692, 0.848]"
      ]
     },
     "execution_count": 9,
     "metadata": {},
     "output_type": "execute_result"
    }
   ],
   "source": [
    "model_fnn.evaluate(X_test, y_test)"
   ]
  },
  {
   "cell_type": "code",
   "execution_count": 10,
   "metadata": {},
   "outputs": [
    {
     "data": {
      "image/png": "[encoded data removed]",
      "text/plain": [
       "<Figure size 576x360 with 1 Axes>"
      ]
     },
     "metadata": {
      "needs_background": "light"
     },
     "output_type": "display_data"
    }
   ],
   "source": [
    "pd.DataFrame(history.history).plot(figsize=(8, 5))\n",
    "plt.show()"
   ]
  },
  {
   "cell_type": "code",
   "execution_count": 11,
   "metadata": {},
   "outputs": [
    {
     "name": "stdout",
     "output_type": "stream",
     "text": [
      "3000/3000 [==============================] - 0s 67us/sample - loss: 0.3835 - accuracy: 0.8480\n"
     ]
    },
    {
     "data": {
      "text/plain": [
       "[0.3834942475954692, 0.848]"
      ]
     },
     "execution_count": 11,
     "metadata": {},
     "output_type": "execute_result"
    }
   ],
   "source": [
    "# Testing load model\n",
    "\n",
    "load = load_model(model_fnn_name)\n",
    "load.evaluate(X_test, y_test)"
   ]
  },
  {
   "cell_type": "markdown",
   "metadata": {},
   "source": [
    "# CNN"
   ]
  },
  {
   "cell_type": "code",
   "execution_count": 12,
   "metadata": {},
   "outputs": [
    {
     "name": "stdout",
     "output_type": "stream",
     "text": [
      "X_train shape: (111000, 28, 28, 1)\n",
      "y_train shape: (111000, 3)\n",
      "X_test shape: (3000, 28, 28, 1)\n",
      "y_test shape: (3000, 3)\n",
      "X_val shape: (6000, 28, 28, 1)\n",
      "y_val shape: (6000, 3)\n"
     ]
    }
   ],
   "source": [
    "def preprocessing_cnn(data):\n",
    "    x = data.reshape(-1, 28, 28, 1)\n",
    "    x = x / 255.0\n",
    "    return x \n",
    "\n",
    "X_train = preprocessing_cnn(X_train_o)\n",
    "X_test = preprocessing_cnn(X_test_o)\n",
    "X_val = preprocessing_cnn(X_val_o)\n",
    "\n",
    "print('X_train shape:', X_train.shape)\n",
    "print('y_train shape:', y_train.shape)\n",
    "print('X_test shape:', X_test.shape)\n",
    "print('y_test shape:', y_test.shape)\n",
    "print('X_val shape:', X_val.shape)\n",
    "print('y_val shape:', y_val.shape)"
   ]
  },
  {
   "cell_type": "code",
   "execution_count": 13,
   "metadata": {},
   "outputs": [],
   "source": [
    "def model_cnn():    \n",
    "    model = tf.keras.models.Sequential()\n",
    "    \n",
    "    model.add(tf.keras.layers.Conv2D(32, (3, 3), input_shape=(28,28,1), use_bias=False))\n",
    "    model.add(tf.keras.layers.BatchNormalization())\n",
    "    model.add(tf.keras.layers.Activation('relu'))\n",
    "    \n",
    "    model.add(tf.keras.layers.Conv2D(64, (3, 3), use_bias=False))\n",
    "    model.add(tf.keras.layers.BatchNormalization())\n",
    "    model.add(tf.keras.layers.Activation('relu'))\n",
    "    model.add(tf.keras.layers.MaxPooling2D((2, 2), strides=(2, 2), padding = 'same'))\n",
    "    model.add(tf.keras.layers.Dropout(0.25))\n",
    "    \n",
    "    model.add(tf.keras.layers.Conv2D(128, (3, 3), use_bias=False))\n",
    "    model.add(tf.keras.layers.BatchNormalization())\n",
    "    model.add(tf.keras.layers.Activation('relu'))\n",
    "    model.add(tf.keras.layers.MaxPooling2D((2, 2), strides=(2, 2), padding = 'same'))\n",
    "    model.add(tf.keras.layers.Dropout(0.25))\n",
    "    \n",
    "    model.add(tf.keras.layers.Flatten())\n",
    "    \n",
    "    model.add(tf.keras.layers.Dense(256, use_bias=False, kernel_initializer=\"he_normal\"))\n",
    "    model.add(tf.keras.layers.BatchNormalization())\n",
    "    model.add(tf.keras.layers.Activation('relu'))\n",
    "    model.add(tf.keras.layers.Dropout(0.5))\n",
    "       \n",
    "    model.add(tf.keras.layers.Dense(64, use_bias=False, kernel_initializer=\"he_normal\"))\n",
    "    model.add(tf.keras.layers.BatchNormalization())\n",
    "    model.add(tf.keras.layers.Activation('relu'))\n",
    "    model.add(tf.keras.layers.Dropout(0.5))\n",
    "    \n",
    "    \n",
    "    model.add(tf.keras.layers.Dense(3, activation = 'softmax'))\n",
    "\n",
    "    model.compile(loss=\"categorical_crossentropy\", optimizer=tf.keras.optimizers.Nadam(lr=0.001), metrics=[\"accuracy\"])\n",
    "    \n",
    "    return model"
   ]
  },
  {
   "cell_type": "code",
   "execution_count": 14,
   "metadata": {},
   "outputs": [
    {
     "name": "stdout",
     "output_type": "stream",
     "text": [
      "Train on 111000 samples, validate on 6000 samples\n",
      "Epoch 1/20\n",
      "110592/111000 [============================>.] - ETA: 0s - loss: 0.5237 - accuracy: 0.7934\n",
      "Epoch 00001: val_loss improved from inf to 1.11822, saving model to cnn.h5\n",
      "111000/111000 [==============================] - 23s 211us/sample - loss: 0.5232 - accuracy: 0.7936 - val_loss: 1.1182 - val_accuracy: 0.3507\n",
      "Epoch 2/20\n",
      "110592/111000 [============================>.] - ETA: 0s - loss: 0.3867 - accuracy: 0.8535\n",
      "Epoch 00002: val_loss improved from 1.11822 to 0.70353, saving model to cnn.h5\n",
      "111000/111000 [==============================] - 19s 168us/sample - loss: 0.3867 - accuracy: 0.8536 - val_loss: 0.7035 - val_accuracy: 0.6573\n",
      "Epoch 3/20\n",
      "110592/111000 [============================>.] - ETA: 0s - loss: 0.3544 - accuracy: 0.8663\n",
      "Epoch 00003: val_loss improved from 0.70353 to 0.34292, saving model to cnn.h5\n",
      "111000/111000 [==============================] - 19s 168us/sample - loss: 0.3543 - accuracy: 0.8663 - val_loss: 0.3429 - val_accuracy: 0.8628\n",
      "Epoch 4/20\n",
      "110592/111000 [============================>.] - ETA: 0s - loss: 0.3359 - accuracy: 0.8738\n",
      "Epoch 00004: val_loss improved from 0.34292 to 0.29656, saving model to cnn.h5\n",
      "111000/111000 [==============================] - 19s 175us/sample - loss: 0.3360 - accuracy: 0.8738 - val_loss: 0.2966 - val_accuracy: 0.8857\n",
      "Epoch 5/20\n",
      "110592/111000 [============================>.] - ETA: 0s - loss: 0.3229 - accuracy: 0.8787\n",
      "Epoch 00005: val_loss did not improve from 0.29656\n",
      "111000/111000 [==============================] - 19s 169us/sample - loss: 0.3230 - accuracy: 0.8788 - val_loss: 0.3023 - val_accuracy: 0.8838\n",
      "Epoch 6/20\n",
      "110592/111000 [============================>.] - ETA: 0s - loss: 0.3119 - accuracy: 0.8830\n",
      "Epoch 00006: val_loss improved from 0.29656 to 0.27793, saving model to cnn.h5\n",
      "111000/111000 [==============================] - 19s 169us/sample - loss: 0.3117 - accuracy: 0.8830 - val_loss: 0.2779 - val_accuracy: 0.8935\n",
      "Epoch 7/20\n",
      "110592/111000 [============================>.] - ETA: 0s - loss: 0.3038 - accuracy: 0.8861\n",
      "Epoch 00007: val_loss did not improve from 0.27793\n",
      "111000/111000 [==============================] - 19s 169us/sample - loss: 0.3037 - accuracy: 0.8860 - val_loss: 0.3045 - val_accuracy: 0.8810\n",
      "Epoch 8/20\n",
      "110592/111000 [============================>.] - ETA: 0s - loss: 0.2958 - accuracy: 0.8890\n",
      "Epoch 00008: val_loss improved from 0.27793 to 0.27322, saving model to cnn.h5\n",
      "111000/111000 [==============================] - 19s 168us/sample - loss: 0.2958 - accuracy: 0.8890 - val_loss: 0.2732 - val_accuracy: 0.8958\n",
      "Epoch 9/20\n",
      "110592/111000 [============================>.] - ETA: 0s - loss: 0.2879 - accuracy: 0.8914\n",
      "Epoch 00009: val_loss did not improve from 0.27322\n",
      "111000/111000 [==============================] - 19s 168us/sample - loss: 0.2879 - accuracy: 0.8914 - val_loss: 0.2921 - val_accuracy: 0.8853\n",
      "Epoch 10/20\n",
      "110592/111000 [============================>.] - ETA: 0s - loss: 0.2823 - accuracy: 0.8944\n",
      "Epoch 00010: val_loss improved from 0.27322 to 0.27298, saving model to cnn.h5\n",
      "111000/111000 [==============================] - 19s 171us/sample - loss: 0.2824 - accuracy: 0.8943 - val_loss: 0.2730 - val_accuracy: 0.8930\n",
      "Epoch 11/20\n",
      "110592/111000 [============================>.] - ETA: 0s - loss: 0.2780 - accuracy: 0.8956\n",
      "Epoch 00011: val_loss improved from 0.27298 to 0.25521, saving model to cnn.h5\n",
      "111000/111000 [==============================] - 19s 172us/sample - loss: 0.2778 - accuracy: 0.8957 - val_loss: 0.2552 - val_accuracy: 0.9002\n",
      "Epoch 12/20\n",
      "110592/111000 [============================>.] - ETA: 0s - loss: 0.2723 - accuracy: 0.8985\n",
      "Epoch 00012: val_loss did not improve from 0.25521\n",
      "111000/111000 [==============================] - 19s 171us/sample - loss: 0.2720 - accuracy: 0.8987 - val_loss: 0.2572 - val_accuracy: 0.9008\n",
      "Epoch 13/20\n",
      "110592/111000 [============================>.] - ETA: 0s - loss: 0.2655 - accuracy: 0.9007\n",
      "Epoch 00013: val_loss improved from 0.25521 to 0.25509, saving model to cnn.h5\n",
      "111000/111000 [==============================] - 19s 172us/sample - loss: 0.2656 - accuracy: 0.9007 - val_loss: 0.2551 - val_accuracy: 0.9005\n",
      "Epoch 14/20\n",
      "110592/111000 [============================>.] - ETA: 0s - loss: 0.2617 - accuracy: 0.9019\n",
      "Epoch 00014: val_loss improved from 0.25509 to 0.25017, saving model to cnn.h5\n",
      "111000/111000 [==============================] - 19s 175us/sample - loss: 0.2617 - accuracy: 0.9020 - val_loss: 0.2502 - val_accuracy: 0.9053\n",
      "Epoch 15/20\n",
      "110592/111000 [============================>.] - ETA: 0s - loss: 0.2562 - accuracy: 0.9049\n",
      "Epoch 00015: val_loss improved from 0.25017 to 0.24908, saving model to cnn.h5\n",
      "111000/111000 [==============================] - 19s 175us/sample - loss: 0.2564 - accuracy: 0.9048 - val_loss: 0.2491 - val_accuracy: 0.9040\n",
      "Epoch 16/20\n",
      "110592/111000 [============================>.] - ETA: 0s - loss: 0.2511 - accuracy: 0.9059\n",
      "Epoch 00016: val_loss did not improve from 0.24908\n",
      "111000/111000 [==============================] - 19s 173us/sample - loss: 0.2509 - accuracy: 0.9059 - val_loss: 0.2569 - val_accuracy: 0.9005\n",
      "Epoch 17/20\n",
      "110592/111000 [============================>.] - ETA: 0s - loss: 0.2478 - accuracy: 0.9074\n",
      "Epoch 00017: val_loss did not improve from 0.24908\n",
      "111000/111000 [==============================] - 19s 172us/sample - loss: 0.2478 - accuracy: 0.9074 - val_loss: 0.2578 - val_accuracy: 0.9018\n",
      "Epoch 18/20\n",
      "110592/111000 [============================>.] - ETA: 0s - loss: 0.2439 - accuracy: 0.9093\n",
      "Epoch 00018: val_loss did not improve from 0.24908\n",
      "111000/111000 [==============================] - 19s 171us/sample - loss: 0.2439 - accuracy: 0.9092 - val_loss: 0.2571 - val_accuracy: 0.8993\n",
      "Epoch 19/20\n",
      "110592/111000 [============================>.] - ETA: 0s - loss: 0.2388 - accuracy: 0.9103\n",
      "Epoch 00019: val_loss improved from 0.24908 to 0.24855, saving model to cnn.h5\n",
      "111000/111000 [==============================] - 19s 171us/sample - loss: 0.2387 - accuracy: 0.9105 - val_loss: 0.2486 - val_accuracy: 0.9027\n",
      "Epoch 20/20\n",
      "110592/111000 [============================>.] - ETA: 0s - loss: 0.2320 - accuracy: 0.9127\n",
      "Epoch 00020: val_loss improved from 0.24855 to 0.24700, saving model to cnn.h5\n",
      "111000/111000 [==============================] - 19s 171us/sample - loss: 0.2321 - accuracy: 0.9126 - val_loss: 0.2470 - val_accuracy: 0.9017\n"
     ]
    }
   ],
   "source": [
    "model_cnn_name = 'cnn.h5'\n",
    "model_cnn = model_cnn()\n",
    "\n",
    "checkpoint = tf.keras.callbacks.ModelCheckpoint(model_cnn_name, monitor=\"val_loss\", verbose=1, save_best_only=True)\n",
    "early_stopping = tf.keras.callbacks.EarlyStopping(monitor=\"val_loss\", verbose=1, patience=5, restore_best_weights=True)\n",
    "\n",
    "history = model_cnn.fit(X_train, y_train, batch_size=512, epochs=20, validation_data=(X_val, y_val),\n",
    "                    callbacks=[checkpoint, early_stopping])"
   ]
  },
  {
   "cell_type": "code",
   "execution_count": 15,
   "metadata": {},
   "outputs": [
    {
     "name": "stdout",
     "output_type": "stream",
     "text": [
      "3000/3000 [==============================] - 1s 176us/sample - loss: 0.2548 - accuracy: 0.9027\n"
     ]
    },
    {
     "data": {
      "text/plain": [
       "[0.25480651028951007, 0.9026667]"
      ]
     },
     "execution_count": 15,
     "metadata": {},
     "output_type": "execute_result"
    }
   ],
   "source": [
    "model_cnn.evaluate(X_test, y_test)"
   ]
  },
  {
   "cell_type": "code",
   "execution_count": 16,
   "metadata": {},
   "outputs": [
    {
     "data": {
      "image/png": "[encoded data removed]",
      "text/plain": [
       "<Figure size 576x360 with 1 Axes>"
      ]
     },
     "metadata": {
      "needs_background": "light"
     },
     "output_type": "display_data"
    }
   ],
   "source": [
    "pd.DataFrame(history.history).plot(figsize=(8, 5))\n",
    "plt.show()"
   ]
  },
  {
   "cell_type": "code",
   "execution_count": 17,
   "metadata": {},
   "outputs": [
    {
     "name": "stdout",
     "output_type": "stream",
     "text": [
      "3000/3000 [==============================] - 0s 162us/sample - loss: 0.2548 - accuracy: 0.9027\n"
     ]
    },
    {
     "data": {
      "text/plain": [
       "[0.25480651028951007, 0.9026667]"
      ]
     },
     "execution_count": 17,
     "metadata": {},
     "output_type": "execute_result"
    }
   ],
   "source": [
    "# Testing load model\n",
    "\n",
    "load = load_model(model_cnn_name)\n",
    "load.evaluate(X_test, y_test)"
   ]
  },
  {
   "cell_type": "markdown",
   "metadata": {},
   "source": [
    "# ResNet"
   ]
  },
  {
   "cell_type": "code",
   "execution_count": 18,
   "metadata": {},
   "outputs": [
    {
     "name": "stdout",
     "output_type": "stream",
     "text": [
      "X_train shape: (111000, 28, 28, 1)\n",
      "y_train shape: (111000, 3)\n",
      "X_test shape: (3000, 28, 28, 1)\n",
      "y_test shape: (3000, 3)\n",
      "X_val shape: (6000, 28, 28, 1)\n",
      "y_val shape: (6000, 3)\n"
     ]
    }
   ],
   "source": [
    "def preprocessing_resnet(data):\n",
    "    x = data.reshape(-1, 28, 28, 1)\n",
    "    x = x / 255.0\n",
    "    return x \n",
    "\n",
    "X_train = preprocessing_resnet(X_train_o)\n",
    "X_test = preprocessing_resnet(X_test_o)\n",
    "X_val = preprocessing_resnet(X_val_o)\n",
    "\n",
    "print('X_train shape:', X_train.shape)\n",
    "print('y_train shape:', y_train.shape)\n",
    "print('X_test shape:', X_test.shape)\n",
    "print('y_test shape:', y_test.shape)\n",
    "print('X_val shape:', X_val.shape)\n",
    "print('y_val shape:', y_val.shape)"
   ]
  },
  {
   "cell_type": "code",
   "execution_count": 19,
   "metadata": {},
   "outputs": [],
   "source": [
    "def ResidualUnit_(filters, strides=1, activation=\"relu\"):\n",
    "    def block(x):\n",
    "        skip = x\n",
    "        \n",
    "        if strides > 1:\n",
    "            skip = tf.keras.layers.Conv2D(filters, kernel_size=1, strides=strides, padding=\"SAME\", use_bias=False)(skip)\n",
    "            skip = tf.keras.layers.BatchNormalization()(skip)\n",
    "        \n",
    "        x = tf.keras.layers.Conv2D(filters, kernel_size=3, strides=strides, padding=\"SAME\", use_bias=False)(x)\n",
    "        x = tf.keras.layers.BatchNormalization()(x)\n",
    "        x = tf.keras.layers.ReLU()(x)\n",
    "        x = tf.keras.layers.Conv2D(filters, kernel_size=3, strides=1, padding=\"SAME\", use_bias=False)(x)\n",
    "        x = tf.keras.layers.BatchNormalization()(x)\n",
    "        \n",
    "        x = tf.keras.layers.add([skip, x])\n",
    "        x = tf.keras.layers.ReLU()(x)\n",
    "        \n",
    "        return x\n",
    "    return block"
   ]
  },
  {
   "cell_type": "code",
   "execution_count": 20,
   "metadata": {},
   "outputs": [],
   "source": [
    "def model_resnet():\n",
    "    img_input = tf.keras.layers.Input(shape = (28, 28, 1))\n",
    "\n",
    "    x = ResidualUnit_(16, 1)(img_input)\n",
    "    x = tf.keras.layers.MaxPooling2D(pool_size=2)(x)\n",
    "    \n",
    "    prev_filters = 16\n",
    "    for filters in [16] + [32]*2 + [64]*2:\n",
    "        strides = 1 if filters == prev_filters else 2\n",
    "        x = ResidualUnit_(filters, strides=strides)(x)\n",
    "        prev_filters = filters\n",
    "\n",
    "    x = tf.keras.layers.Dropout(0.25)(x)\n",
    "    x = tf.keras.layers.GlobalAvgPool2D()(x)\n",
    "    x = tf.keras.layers.Flatten()(x)\n",
    "    x = tf.keras.layers.Dropout(0.25)(x)\n",
    "    \n",
    "    x = tf.keras.layers.Dense(64, use_bias=False, kernel_initializer=\"he_normal\")(x)\n",
    "    x = tf.keras.layers.BatchNormalization()(x)\n",
    "    x = tf.keras.layers.Activation('relu')(x)\n",
    "    x = tf.keras.layers.Dropout(0.7)(x)\n",
    "    \n",
    "    yhat = tf.keras.layers.Dense(3, activation='softmax')(x)\n",
    "\n",
    "    model = tf.keras.models.Model(inputs = img_input, outputs = yhat)    \n",
    "    model.compile(loss=\"categorical_crossentropy\", optimizer=tf.keras.optimizers.Nadam(lr=0.001), metrics=[\"accuracy\"])\n",
    "   \n",
    "    return model"
   ]
  },
  {
   "cell_type": "code",
   "execution_count": 21,
   "metadata": {
    "scrolled": true
   },
   "outputs": [
    {
     "name": "stderr",
     "output_type": "stream",
     "text": [
      "W0711 12:34:16.448738 140088239945536 nn_ops.py:4220] Large dropout rate: 0.7 (>0.5). In TensorFlow 2.x, dropout() uses dropout rate instead of keep_prob. Please ensure that this is intended.\n"
     ]
    },
    {
     "name": "stdout",
     "output_type": "stream",
     "text": [
      "Train on 111000 samples, validate on 6000 samples\n",
      "Epoch 1/20\n",
      "110592/111000 [============================>.] - ETA: 0s - loss: 0.6128 - accuracy: 0.7723\n",
      "Epoch 00001: val_loss improved from inf to 0.93923, saving model to resnet.h5\n",
      "111000/111000 [==============================] - 18s 166us/sample - loss: 0.6122 - accuracy: 0.7725 - val_loss: 0.9392 - val_accuracy: 0.5538\n",
      "Epoch 2/20\n",
      "110592/111000 [============================>.] - ETA: 0s - loss: 0.3884 - accuracy: 0.8599\n",
      "Epoch 00002: val_loss improved from 0.93923 to 0.66722, saving model to resnet.h5\n",
      "111000/111000 [==============================] - 13s 118us/sample - loss: 0.3884 - accuracy: 0.8599 - val_loss: 0.6672 - val_accuracy: 0.7543\n",
      "Epoch 3/20\n",
      "110592/111000 [============================>.] - ETA: 0s - loss: 0.3507 - accuracy: 0.8756\n",
      "Epoch 00003: val_loss improved from 0.66722 to 0.37286, saving model to resnet.h5\n",
      "111000/111000 [==============================] - 13s 120us/sample - loss: 0.3506 - accuracy: 0.8755 - val_loss: 0.3729 - val_accuracy: 0.8580\n",
      "Epoch 4/20\n",
      "110592/111000 [============================>.] - ETA: 0s - loss: 0.3252 - accuracy: 0.8830\n",
      "Epoch 00004: val_loss improved from 0.37286 to 0.30091, saving model to resnet.h5\n",
      "111000/111000 [==============================] - 14s 122us/sample - loss: 0.3253 - accuracy: 0.8830 - val_loss: 0.3009 - val_accuracy: 0.8842\n",
      "Epoch 5/20\n",
      "110592/111000 [============================>.] - ETA: 0s - loss: 0.3066 - accuracy: 0.8904\n",
      "Epoch 00005: val_loss did not improve from 0.30091\n",
      "111000/111000 [==============================] - 13s 117us/sample - loss: 0.3068 - accuracy: 0.8903 - val_loss: 0.4234 - val_accuracy: 0.8395\n",
      "Epoch 6/20\n",
      "110592/111000 [============================>.] - ETA: 0s - loss: 0.2933 - accuracy: 0.8933\n",
      "Epoch 00006: val_loss did not improve from 0.30091\n",
      "111000/111000 [==============================] - 13s 116us/sample - loss: 0.2932 - accuracy: 0.8934 - val_loss: 0.3479 - val_accuracy: 0.8667\n",
      "Epoch 7/20\n",
      "110592/111000 [============================>.] - ETA: 0s - loss: 0.2791 - accuracy: 0.8989\n",
      "Epoch 00007: val_loss did not improve from 0.30091\n",
      "111000/111000 [==============================] - 13s 118us/sample - loss: 0.2792 - accuracy: 0.8988 - val_loss: 0.3493 - val_accuracy: 0.8725\n",
      "Epoch 8/20\n",
      "110592/111000 [============================>.] - ETA: 0s - loss: 0.2670 - accuracy: 0.9021\n",
      "Epoch 00008: val_loss did not improve from 0.30091\n",
      "111000/111000 [==============================] - 13s 119us/sample - loss: 0.2669 - accuracy: 0.9022 - val_loss: 0.3146 - val_accuracy: 0.8805\n",
      "Epoch 9/20\n",
      "110592/111000 [============================>.] - ETA: 0s - loss: 0.2557 - accuracy: 0.9063\n",
      "Epoch 00009: val_loss did not improve from 0.30091\n",
      "Restoring model weights from the end of the best epoch.\n",
      "111000/111000 [==============================] - 13s 120us/sample - loss: 0.2556 - accuracy: 0.9064 - val_loss: 0.3721 - val_accuracy: 0.8775\n",
      "Epoch 00009: early stopping\n"
     ]
    }
   ],
   "source": [
    "model_resnet_name = 'resnet.h5'\n",
    "model_resnet = model_resnet()\n",
    "\n",
    "checkpoint = tf.keras.callbacks.ModelCheckpoint(model_resnet_name, monitor=\"val_loss\", verbose=1, save_best_only=True)\n",
    "early_stopping = tf.keras.callbacks.EarlyStopping(monitor=\"val_loss\", verbose=1, patience=5, restore_best_weights=True)\n",
    "\n",
    "history = model_resnet.fit(X_train, y_train, batch_size=512, epochs=20, validation_data=(X_val, y_val),\n",
    "                    callbacks=[checkpoint, early_stopping])"
   ]
  },
  {
   "cell_type": "code",
   "execution_count": 27,
   "metadata": {},
   "outputs": [
    {
     "name": "stdout",
     "output_type": "stream",
     "text": [
      "3000/3000 [==============================] - 0s 91us/sample - loss: 0.3170 - accuracy: 0.8807\n"
     ]
    },
    {
     "data": {
      "text/plain": [
       "[0.31695725305875144, 0.8806667]"
      ]
     },
     "execution_count": 27,
     "metadata": {},
     "output_type": "execute_result"
    }
   ],
   "source": [
    "model_resnet.evaluate(X_test, y_test)"
   ]
  },
  {
   "cell_type": "code",
   "execution_count": 23,
   "metadata": {},
   "outputs": [
    {
     "data": {
      "image/png": "[encoded data removed]",
      "text/plain": [
       "<Figure size 576x360 with 1 Axes>"
      ]
     },
     "metadata": {
      "needs_background": "light"
     },
     "output_type": "display_data"
    }
   ],
   "source": [
    "pd.DataFrame(history.history).plot(figsize=(8, 5))\n",
    "plt.show()"
   ]
  },
  {
   "cell_type": "code",
   "execution_count": 24,
   "metadata": {},
   "outputs": [
    {
     "name": "stderr",
     "output_type": "stream",
     "text": [
      "W0711 12:36:31.451584 140088239945536 nn_ops.py:4220] Large dropout rate: 0.7 (>0.5). In TensorFlow 2.x, dropout() uses dropout rate instead of keep_prob. Please ensure that this is intended.\n"
     ]
    },
    {
     "name": "stdout",
     "output_type": "stream",
     "text": [
      "3000/3000 [==============================] - 1s 256us/sample - loss: 0.3170 - accuracy: 0.8807\n"
     ]
    },
    {
     "data": {
      "text/plain": [
       "[0.31695725305875144, 0.8806667]"
      ]
     },
     "execution_count": 24,
     "metadata": {},
     "output_type": "execute_result"
    }
   ],
   "source": [
    "# Testing load model\n",
    "\n",
    "load = load_model(model_resnet_name)\n",
    "load.evaluate(X_test, y_test)"
   ]
  },
  {
   "cell_type": "code",
   "execution_count": null,
   "metadata": {},
   "outputs": [],
   "source": []
  }
 ],
 "metadata": {
  "kernelspec": {
   "display_name": "Python 3",
   "language": "python",
   "name": "python3"
  },
  "language_info": {
   "codemirror_mode": {
    "name": "ipython",
    "version": 3
   },
   "file_extension": ".py",
   "mimetype": "text/x-python",
   "name": "python",
   "nbconvert_exporter": "python",
   "pygments_lexer": "ipython3",
   "version": "3.6.7"
  }
 },
 "nbformat": 4,
 "nbformat_minor": 2
}
